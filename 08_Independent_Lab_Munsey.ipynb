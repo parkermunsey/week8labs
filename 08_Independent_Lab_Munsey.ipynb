{
 "cells": [
  {
   "cell_type": "markdown",
   "id": "d0a9c040-f123-47da-83d6-b1e39c8882bd",
   "metadata": {},
   "source": [
    "Week 8 Independant Lab: Advanced Data Manipulation <br>\n",
    "\n",
    "Author: Parker Munsey <br>\n",
    "Course: BGEN632 Grad. Intro. to Python <br>\n",
    "Term: Spring 2025 <br>\n",
    "Date Due: April 21, 2025 <br>"
   ]
  },
  {
   "cell_type": "code",
   "execution_count": 2,
   "id": "65604538-26f2-4816-99eb-e82e10ff1a19",
   "metadata": {},
   "outputs": [
    {
     "name": "stdout",
     "output_type": "stream",
     "text": [
      "Mean of user_commits (all data): 339.36575052854124\n",
      "Median of user_commits (all data): 18.0\n",
      "Columns in turnover_new:\n",
      "['project_id', 'project_domain', 'project_language', 'project_age', 'project_commits', 'gender_blau', 'gh_tenure_gini', 'gender', 'gh_tenure']\n",
      "Sample of turnover_newer:\n",
      "   project_id project_domain project_language  project_age  project_commits  \\\n",
      "0        1101          OTHER           Python           23            22688   \n",
      "1        1101          OTHER           Python           23            22688   \n",
      "2        1101          OTHER           Python           23            22688   \n",
      "3        1101          OTHER           Python           23            22688   \n",
      "4        1101          OTHER           Python           23            22688   \n",
      "\n",
      "   gender_blau  gh_tenure_gini gender  gh_tenure  \n",
      "0          0.0        0.422259   male        426  \n",
      "1          0.0        0.422259   male         46  \n",
      "2          0.0        0.422259   male        941  \n",
      "3          0.0        0.422259   male       1870  \n",
      "4          0.0        0.422259   male        781  \n",
      "Mean of user_commits (filtered): 3.5\n",
      "Median of user_commits (filtered): 3.5\n"
     ]
    }
   ],
   "source": [
    "# Import libraries\n",
    "import pandas as pd\n",
    "\n",
    "# Load the dataset\n",
    "df = pd.read_csv(r\"C:\\Users\\TechnellogicPC\\UTW\\Python\\week8labs\\gh_turnover_four_projects.csv\")\n",
    "\n",
    "# Rename the specified columns\n",
    "df.rename(columns={\n",
    "    'domain': 'project_domain',\n",
    "    'language': 'project_language',\n",
    "    'windows': 'project_age',\n",
    "    'window_idx': 'quarter',\n",
    "    'num_team': 'team_size',\n",
    "    'num_commits': 'project_commits',\n",
    "    'blau_gender': 'gender_blau',\n",
    "    'Gini_gh_ten': 'gh_tenure_gini',\n",
    "    'Core1': 'core_dev',\n",
    "    'commits': 'user_commits',\n",
    "    'propCommits': 'commit_proportion',\n",
    "    'github_tenure': 'gh_tenure',\n",
    "    'leavesNextQ': 'leaves_next_q'\n",
    "}, inplace=True)\n",
    "\n",
    "# 1. Calculate the mean of user_commits\n",
    "mean_user_commits = df['user_commits'].mean()\n",
    "print(\"Mean of user_commits (all data):\", mean_user_commits)\n",
    "\n",
    "# 2. Calculate the median of user_commits\n",
    "median_user_commits = df['user_commits'].median()\n",
    "print(\"Median of user_commits (all data):\", median_user_commits)\n",
    "\n",
    "# 3. Select columns that start with 'p' or contain 'g'\n",
    "turnover_new = df.filter(regex='(^p)|(g)')\n",
    "print(\"Columns in turnover_new:\")\n",
    "print(turnover_new.columns.tolist())\n",
    "\n",
    "# 4. Filter turnover_new where project_commits > 9000\n",
    "filtered_turnover_new = turnover_new[turnover_new['project_commits'] > 9000]\n",
    "\n",
    "# 5. Combine steps 3 & 4 with piping\n",
    "turnover_newer = (\n",
    "    df\n",
    "    .filter(regex='(^p)|(g)')\n",
    "    .loc[lambda d: d['project_commits'] > 9000]\n",
    ")\n",
    "\n",
    "# Optional: display a few rows\n",
    "print(\"Sample of turnover_newer:\")\n",
    "print(turnover_newer.head())\n",
    "\n",
    "# 6. From original df, select columns ending with 'e' or containing 's', then filter rows\n",
    "tenure_filtered_df = (\n",
    "    df\n",
    "    .filter(regex='(e$)|s')\n",
    "    .loc[lambda d: df['gh_tenure'] >= 1991]\n",
    ")\n",
    "\n",
    "# 7. Calculate mean and median of user_commits from filtered rows\n",
    "filtered_mean = df.loc[tenure_filtered_df.index, 'user_commits'].mean()\n",
    "filtered_median = df.loc[tenure_filtered_df.index, 'user_commits'].median()\n",
    "\n",
    "print(\"Mean of user_commits (filtered):\", filtered_mean)\n",
    "print(\"Median of user_commits (filtered):\", filtered_median)\n"
   ]
  },
  {
   "cell_type": "markdown",
   "id": "2df332bf-3302-443c-8145-95e70be5360d",
   "metadata": {},
   "source": [
    "### Comparison of User Commit Activity\n",
    "\n",
    "In this analysis, we calculated the mean and median of user_commits across the full dataset and a filtered subset:\n",
    "\n",
    "- **Full Dataset**:\n",
    "  - Mean: ~339.37\n",
    "  - Median: 18.0\n",
    "\n",
    "- **Filtered Dataset** (columns ending in 'e' or containing 's', and `gh_tenure >= 1991`):\n",
    "  - Mean: 3.5\n",
    "  - Median: 3.5\n",
    "\n",
    "This significant drop suggests that contributors with long tenure and matching the filtered criteria have much lower recent contribution counts. This could reflect a shift in involvement or role over time.\n"
   ]
  },
  {
   "cell_type": "markdown",
   "id": "fc110c44-6d4e-477a-9a6e-a0e11b57e279",
   "metadata": {},
   "source": [
    "References: <br>\n",
    "\n",
    "Pandas Official Documentation <br>\n",
    "  https://pandas.pydata.org/docs/   <br>\n",
    "  Used to reference syntax for `filter()`, `loc[]`, and aggregation functions like `mean()` and `median()`. <br>\n",
    "\n",
    "Regular Expression Syntax <br>\n",
    "  https://docs.python.org/3/library/re.html  <br>\n",
    "  Regex expressions like `(^p)`, `(g)`, and `(e$)` were used to filter columns based on names. These patterns help identify columns starting with, containing, or ending with specific letters. <br> \n",
    "\n",
    "Stack Overflow Community  <br>\n",
    "  https://stackoverflow.com/questions/29550459/select-columns-containing-a-string-in-pandas-dataframe  <br>\n",
    "  Reviewed examples of how to select columns using regex in Pandas. <br> "
   ]
  }
 ],
 "metadata": {
  "kernelspec": {
   "display_name": "Python 3 (ipykernel)",
   "language": "python",
   "name": "python3"
  },
  "language_info": {
   "codemirror_mode": {
    "name": "ipython",
    "version": 3
   },
   "file_extension": ".py",
   "mimetype": "text/x-python",
   "name": "python",
   "nbconvert_exporter": "python",
   "pygments_lexer": "ipython3",
   "version": "3.12.7"
  }
 },
 "nbformat": 4,
 "nbformat_minor": 5
}
